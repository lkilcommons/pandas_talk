{
 "cells": [
  {
   "cell_type": "code",
   "execution_count": 1,
   "metadata": {},
   "outputs": [
    {
     "data": {
      "text/html": [
       "<div>\n",
       "<style scoped>\n",
       "    .dataframe tbody tr th:only-of-type {\n",
       "        vertical-align: middle;\n",
       "    }\n",
       "\n",
       "    .dataframe tbody tr th {\n",
       "        vertical-align: top;\n",
       "    }\n",
       "\n",
       "    .dataframe thead th {\n",
       "        text-align: right;\n",
       "    }\n",
       "</style>\n",
       "<table border=\"1\" class=\"dataframe\">\n",
       "  <thead>\n",
       "    <tr style=\"text-align: right;\">\n",
       "      <th></th>\n",
       "      <th>date_time</th>\n",
       "      <th>geolat</th>\n",
       "      <th>geolong</th>\n",
       "      <th>corrected_ram</th>\n",
       "      <th>corrected_cross_track</th>\n",
       "      <th>geo_east</th>\n",
       "      <th>geo_north</th>\n",
       "      <th>geo_east_cross_track_only</th>\n",
       "      <th>geo_north_cross_track_only</th>\n",
       "    </tr>\n",
       "  </thead>\n",
       "  <tbody>\n",
       "    <tr>\n",
       "      <th>0</th>\n",
       "      <td>2015-03-17 15:01:25</td>\n",
       "      <td>27.7591</td>\n",
       "      <td>351.591</td>\n",
       "      <td>-30.39790</td>\n",
       "      <td>-77.4340</td>\n",
       "      <td>-83.1520</td>\n",
       "      <td>-2.40644</td>\n",
       "      <td>-72.8673</td>\n",
       "      <td>26.1987</td>\n",
       "    </tr>\n",
       "    <tr>\n",
       "      <th>1</th>\n",
       "      <td>2015-03-17 15:01:33</td>\n",
       "      <td>28.2260</td>\n",
       "      <td>351.458</td>\n",
       "      <td>-16.56430</td>\n",
       "      <td>-76.0488</td>\n",
       "      <td>-77.0998</td>\n",
       "      <td>10.64930</td>\n",
       "      <td>-71.3933</td>\n",
       "      <td>26.1995</td>\n",
       "    </tr>\n",
       "    <tr>\n",
       "      <th>2</th>\n",
       "      <td>2015-03-17 15:01:37</td>\n",
       "      <td>28.4593</td>\n",
       "      <td>351.391</td>\n",
       "      <td>-9.64744</td>\n",
       "      <td>-76.4128</td>\n",
       "      <td>-75.0009</td>\n",
       "      <td>17.51720</td>\n",
       "      <td>-71.6472</td>\n",
       "      <td>26.5629</td>\n",
       "    </tr>\n",
       "  </tbody>\n",
       "</table>\n",
       "</div>"
      ],
      "text/plain": [
       "            date_time   geolat  geolong  corrected_ram  corrected_cross_track  \\\n",
       "0 2015-03-17 15:01:25  27.7591  351.591      -30.39790               -77.4340   \n",
       "1 2015-03-17 15:01:33  28.2260  351.458      -16.56430               -76.0488   \n",
       "2 2015-03-17 15:01:37  28.4593  351.391       -9.64744               -76.4128   \n",
       "\n",
       "   geo_east  geo_north  geo_east_cross_track_only  geo_north_cross_track_only  \n",
       "0  -83.1520   -2.40644                   -72.8673                     26.1987  \n",
       "1  -77.0998   10.64930                   -71.3933                     26.1995  \n",
       "2  -75.0009   17.51720                   -71.6472                     26.5629  "
      ]
     },
     "execution_count": 1,
     "metadata": {},
     "output_type": "execute_result"
    }
   ],
   "source": [
    "import pandas as pd\n",
    "\n",
    "cols = ['date','time','geolat','geolong',\n",
    "        'corrected_ram','corrected_cross_track',  \n",
    "        'geo_east','geo_north',\n",
    "        'geo_east_cross_track_only','geo_north_cross_track_only']\n",
    "\n",
    "dataframe = pd.read_csv('F15_15_21.txt',delimiter=' ',names=cols,parse_dates=[['date','time']])\n",
    "dataframe.plot('date_time',['corrected_cross_track','corrected_ram'])\n",
    "dataframe.head(3)"
   ]
  },
  {
   "cell_type": "code",
   "execution_count": 2,
   "metadata": {},
   "outputs": [
    {
     "data": {
      "text/html": [
       "<div>\n",
       "<style scoped>\n",
       "    .dataframe tbody tr th:only-of-type {\n",
       "        vertical-align: middle;\n",
       "    }\n",
       "\n",
       "    .dataframe tbody tr th {\n",
       "        vertical-align: top;\n",
       "    }\n",
       "\n",
       "    .dataframe thead th {\n",
       "        text-align: right;\n",
       "    }\n",
       "</style>\n",
       "<table border=\"1\" class=\"dataframe\">\n",
       "  <thead>\n",
       "    <tr style=\"text-align: right;\">\n",
       "      <th></th>\n",
       "      <th>date_time</th>\n",
       "      <th>geolat</th>\n",
       "      <th>geolong</th>\n",
       "      <th>corrected_ram</th>\n",
       "      <th>corrected_cross_track</th>\n",
       "      <th>geo_east</th>\n",
       "      <th>geo_north</th>\n",
       "      <th>geo_east_cross_track_only</th>\n",
       "      <th>geo_north_cross_track_only</th>\n",
       "    </tr>\n",
       "    <tr>\n",
       "      <th>date_time</th>\n",
       "      <th></th>\n",
       "      <th></th>\n",
       "      <th></th>\n",
       "      <th></th>\n",
       "      <th></th>\n",
       "      <th></th>\n",
       "      <th></th>\n",
       "      <th></th>\n",
       "      <th></th>\n",
       "    </tr>\n",
       "  </thead>\n",
       "  <tbody>\n",
       "    <tr>\n",
       "      <th>2015-03-17 15:01:25</th>\n",
       "      <td>2015-03-17 15:01:25</td>\n",
       "      <td>27.7591</td>\n",
       "      <td>351.591</td>\n",
       "      <td>-30.39790</td>\n",
       "      <td>-77.4340</td>\n",
       "      <td>-83.1520</td>\n",
       "      <td>-2.40644</td>\n",
       "      <td>-72.8673</td>\n",
       "      <td>26.1987</td>\n",
       "    </tr>\n",
       "    <tr>\n",
       "      <th>2015-03-17 15:01:33</th>\n",
       "      <td>2015-03-17 15:01:33</td>\n",
       "      <td>28.2260</td>\n",
       "      <td>351.458</td>\n",
       "      <td>-16.56430</td>\n",
       "      <td>-76.0488</td>\n",
       "      <td>-77.0998</td>\n",
       "      <td>10.64930</td>\n",
       "      <td>-71.3933</td>\n",
       "      <td>26.1995</td>\n",
       "    </tr>\n",
       "    <tr>\n",
       "      <th>2015-03-17 15:01:37</th>\n",
       "      <td>2015-03-17 15:01:37</td>\n",
       "      <td>28.4593</td>\n",
       "      <td>351.391</td>\n",
       "      <td>-9.64744</td>\n",
       "      <td>-76.4128</td>\n",
       "      <td>-75.0009</td>\n",
       "      <td>17.51720</td>\n",
       "      <td>-71.6472</td>\n",
       "      <td>26.5629</td>\n",
       "    </tr>\n",
       "  </tbody>\n",
       "</table>\n",
       "</div>"
      ],
      "text/plain": [
       "                              date_time   geolat  geolong  corrected_ram  \\\n",
       "date_time                                                                  \n",
       "2015-03-17 15:01:25 2015-03-17 15:01:25  27.7591  351.591      -30.39790   \n",
       "2015-03-17 15:01:33 2015-03-17 15:01:33  28.2260  351.458      -16.56430   \n",
       "2015-03-17 15:01:37 2015-03-17 15:01:37  28.4593  351.391       -9.64744   \n",
       "\n",
       "                     corrected_cross_track  geo_east  geo_north  \\\n",
       "date_time                                                         \n",
       "2015-03-17 15:01:25               -77.4340  -83.1520   -2.40644   \n",
       "2015-03-17 15:01:33               -76.0488  -77.0998   10.64930   \n",
       "2015-03-17 15:01:37               -76.4128  -75.0009   17.51720   \n",
       "\n",
       "                     geo_east_cross_track_only  geo_north_cross_track_only  \n",
       "date_time                                                                   \n",
       "2015-03-17 15:01:25                   -72.8673                     26.1987  \n",
       "2015-03-17 15:01:33                   -71.3933                     26.1995  \n",
       "2015-03-17 15:01:37                   -71.6472                     26.5629  "
      ]
     },
     "execution_count": 2,
     "metadata": {},
     "output_type": "execute_result"
    }
   ],
   "source": [
    "dataframe.set_index(dataframe['date_time'],inplace=True)\n",
    "dataframe.sort_index(inplace=True)\n",
    "dataframe.head(3)"
   ]
  },
  {
   "cell_type": "code",
   "execution_count": 3,
   "metadata": {},
   "outputs": [
    {
     "data": {
      "text/plain": [
       "date_time\n",
       "2015-03-17 15:01:00    28.226\n",
       "Freq: T, Name: geolat, dtype: float64"
      ]
     },
     "execution_count": 3,
     "metadata": {},
     "output_type": "execute_result"
    }
   ],
   "source": [
    "series = dataframe['geolat'] # or = dataframe.geolat\n",
    "series_3rows = series[:3]\n",
    "series_3rows_1min_resampler = series_3rows.resample('1T')\n",
    "series_3rows_1min_median = series_3rows_1min_resampler.median()\n",
    "series_3rows_1min_median"
   ]
  },
  {
   "cell_type": "code",
   "execution_count": 4,
   "metadata": {},
   "outputs": [
    {
     "data": {
      "text/html": [
       "<div>\n",
       "<style scoped>\n",
       "    .dataframe tbody tr th:only-of-type {\n",
       "        vertical-align: middle;\n",
       "    }\n",
       "\n",
       "    .dataframe tbody tr th {\n",
       "        vertical-align: top;\n",
       "    }\n",
       "\n",
       "    .dataframe thead th {\n",
       "        text-align: right;\n",
       "    }\n",
       "</style>\n",
       "<table border=\"1\" class=\"dataframe\">\n",
       "  <thead>\n",
       "    <tr style=\"text-align: right;\">\n",
       "      <th></th>\n",
       "      <th>geo_north</th>\n",
       "      <th>northward_flow</th>\n",
       "    </tr>\n",
       "    <tr>\n",
       "      <th>date_time</th>\n",
       "      <th></th>\n",
       "      <th></th>\n",
       "    </tr>\n",
       "  </thead>\n",
       "  <tbody>\n",
       "    <tr>\n",
       "      <th>2015-03-17 15:01:25</th>\n",
       "      <td>-2.40644</td>\n",
       "      <td>False</td>\n",
       "    </tr>\n",
       "    <tr>\n",
       "      <th>2015-03-17 15:01:33</th>\n",
       "      <td>10.64930</td>\n",
       "      <td>True</td>\n",
       "    </tr>\n",
       "    <tr>\n",
       "      <th>2015-03-17 15:01:37</th>\n",
       "      <td>17.51720</td>\n",
       "      <td>True</td>\n",
       "    </tr>\n",
       "  </tbody>\n",
       "</table>\n",
       "</div>"
      ],
      "text/plain": [
       "                     geo_north  northward_flow\n",
       "date_time                                     \n",
       "2015-03-17 15:01:25   -2.40644           False\n",
       "2015-03-17 15:01:33   10.64930            True\n",
       "2015-03-17 15:01:37   17.51720            True"
      ]
     },
     "execution_count": 4,
     "metadata": {},
     "output_type": "execute_result"
    }
   ],
   "source": [
    "dataframe['northward_flow']=dataframe['geo_north']>0\n",
    "dataframe[['geo_north','northward_flow']].head(3)"
   ]
  },
  {
   "cell_type": "code",
   "execution_count": 5,
   "metadata": {},
   "outputs": [
    {
     "data": {
      "text/html": [
       "<div>\n",
       "<style scoped>\n",
       "    .dataframe tbody tr th:only-of-type {\n",
       "        vertical-align: middle;\n",
       "    }\n",
       "\n",
       "    .dataframe tbody tr th {\n",
       "        vertical-align: top;\n",
       "    }\n",
       "\n",
       "    .dataframe thead th {\n",
       "        text-align: right;\n",
       "    }\n",
       "</style>\n",
       "<table border=\"1\" class=\"dataframe\">\n",
       "  <thead>\n",
       "    <tr style=\"text-align: right;\">\n",
       "      <th></th>\n",
       "      <th>geo_north</th>\n",
       "      <th>northward_flow</th>\n",
       "      <th>flow_direction</th>\n",
       "    </tr>\n",
       "    <tr>\n",
       "      <th>date_time</th>\n",
       "      <th></th>\n",
       "      <th></th>\n",
       "      <th></th>\n",
       "    </tr>\n",
       "  </thead>\n",
       "  <tbody>\n",
       "    <tr>\n",
       "      <th>2015-03-17 15:01:25</th>\n",
       "      <td>-2.40644</td>\n",
       "      <td>False</td>\n",
       "      <td>southward</td>\n",
       "    </tr>\n",
       "    <tr>\n",
       "      <th>2015-03-17 15:01:33</th>\n",
       "      <td>10.64930</td>\n",
       "      <td>True</td>\n",
       "      <td>northward</td>\n",
       "    </tr>\n",
       "    <tr>\n",
       "      <th>2015-03-17 15:01:37</th>\n",
       "      <td>17.51720</td>\n",
       "      <td>True</td>\n",
       "      <td>northward</td>\n",
       "    </tr>\n",
       "  </tbody>\n",
       "</table>\n",
       "</div>"
      ],
      "text/plain": [
       "                     geo_north  northward_flow flow_direction\n",
       "date_time                                                    \n",
       "2015-03-17 15:01:25   -2.40644           False      southward\n",
       "2015-03-17 15:01:33   10.64930            True      northward\n",
       "2015-03-17 15:01:37   17.51720            True      northward"
      ]
     },
     "execution_count": 5,
     "metadata": {},
     "output_type": "execute_result"
    }
   ],
   "source": [
    "import numpy as np\n",
    "dataframe['flow_direction']=pd.cut(dataframe['geo_north'],[-np.inf,0,np.inf],labels=['southward','northward'])\n",
    "dataframe[['geo_north','northward_flow','flow_direction']].head(3)"
   ]
  },
  {
   "cell_type": "code",
   "execution_count": 7,
   "metadata": {},
   "outputs": [
    {
     "data": {
      "text/plain": [
       "corrected_cross_track\n",
       "False   -456149.324002\n",
       "True     621820.814380\n",
       "Name: corrected_cross_track, dtype: float64"
      ]
     },
     "execution_count": 7,
     "metadata": {},
     "output_type": "execute_result"
    }
   ],
   "source": [
    "dataframe1s = dataframe.resample('1S').nearest()\n",
    "xt = dataframe1s['corrected_cross_track']\n",
    "xt.groupby(xt>0).sum()\n"
   ]
  },
  {
   "cell_type": "code",
   "execution_count": 45,
   "metadata": {},
   "outputs": [
    {
     "data": {
      "text/plain": [
       "<matplotlib.axes._subplots.AxesSubplot at 0x7fd38c442bd0>"
      ]
     },
     "execution_count": 45,
     "metadata": {},
     "output_type": "execute_result"
    },
    {
     "data": {
      "image/png": "[encoded data removed]",
      "text/plain": [
       "<Figure size 432x288 with 1 Axes>"
      ]
     },
     "metadata": {
      "needs_background": "light"
     },
     "output_type": "display_data"
    }
   ],
   "source": [
    "window = '2T'\n",
    "dataframe4s = dataframe.resample('4S').nearest()\n",
    "dataframe4s['xt_boxcar']=dataframe4s['corrected_cross_track'].rolling(window=window).mean().shift(-15)\n",
    "dataframe4s.plot('date_time',['corrected_cross_track','xt_boxcar'])"
   ]
  },
  {
   "cell_type": "code",
   "execution_count": 52,
   "metadata": {},
   "outputs": [
    {
     "data": {
      "text/html": [
       "<div>\n",
       "<style scoped>\n",
       "    .dataframe tbody tr th:only-of-type {\n",
       "        vertical-align: middle;\n",
       "    }\n",
       "\n",
       "    .dataframe tbody tr th {\n",
       "        vertical-align: top;\n",
       "    }\n",
       "\n",
       "    .dataframe thead th {\n",
       "        text-align: right;\n",
       "    }\n",
       "</style>\n",
       "<table border=\"1\" class=\"dataframe\">\n",
       "  <thead>\n",
       "    <tr style=\"text-align: right;\">\n",
       "      <th></th>\n",
       "      <th>corrected_cross_track</th>\n",
       "    </tr>\n",
       "    <tr>\n",
       "      <th>xt_sign</th>\n",
       "      <th></th>\n",
       "    </tr>\n",
       "  </thead>\n",
       "  <tbody>\n",
       "    <tr>\n",
       "      <th>negative</th>\n",
       "      <td>-456149.324002</td>\n",
       "    </tr>\n",
       "    <tr>\n",
       "      <th>positive</th>\n",
       "      <td>621820.814380</td>\n",
       "    </tr>\n",
       "  </tbody>\n",
       "</table>\n",
       "</div>"
      ],
      "text/plain": [
       "          corrected_cross_track\n",
       "xt_sign                        \n",
       "negative         -456149.324002\n",
       "positive          621820.814380"
      ]
     },
     "execution_count": 52,
     "metadata": {},
     "output_type": "execute_result"
    }
   ],
   "source": [
    "dataframe1s = dataframe.resample('1S').nearest()\n",
    "dataframe1s['xt_sign'] = pd.cut(dataframe1s['corrected_cross_track'],\n",
    "                              [-np.inf,0,np.inf],\n",
    "                              labels=['negative','positive'])\n",
    "grouped = dataframe1s.groupby('xt_sign')\n",
    "grouped[['corrected_cross_track']].sum()"
   ]
  },
  {
   "cell_type": "code",
   "execution_count": 9,
   "metadata": {},
   "outputs": [
    {
     "name": "stderr",
     "output_type": "stream",
     "text": [
      "/home/liamk/anaconda3/lib/python3.7/site-packages/pandas/core/indexing.py:1494: FutureWarning: \n",
      "Passing list-likes to .loc or [] with any missing label will raise\n",
      "KeyError in the future, you can use .reindex() as an alternative.\n",
      "\n",
      "See the documentation here:\n",
      "https://pandas.pydata.org/pandas-docs/stable/indexing.html#deprecate-loc-reindex-listlike\n",
      "  return self._getitem_tuple(key)\n"
     ]
    }
   ],
   "source": [
    "import csv\n",
    "#Skip the 'date' and 'time' columns because they are combined (date_time) in the dataframe\n",
    "newcols = ['date_time']\n",
    "newcols.extend(cols[2:])\n",
    "newcols.extend('liam_'+col for col in cols if 'geo_' in col)\n",
    "dataframe.to_csv('F15_15_21_liam.txt',\n",
    "                 sep=' ',\n",
    "                 date_format='%m/%d/%YT%H:%M:%S',\n",
    "                 columns=newcols,\n",
    "                 header=False,\n",
    "                 index=False,\n",
    "                 float_format='%.4f')"
   ]
  }
 ],
 "metadata": {
  "kernelspec": {
   "display_name": "Python 3",
   "language": "python",
   "name": "python3"
  },
  "language_info": {
   "codemirror_mode": {
    "name": "ipython",
    "version": 3
   },
   "file_extension": ".py",
   "mimetype": "text/x-python",
   "name": "python",
   "nbconvert_exporter": "python",
   "pygments_lexer": "ipython3",
   "version": "3.7.4"
  }
 },
 "nbformat": 4,
 "nbformat_minor": 2
}
